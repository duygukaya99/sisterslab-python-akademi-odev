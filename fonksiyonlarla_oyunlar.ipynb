{
 "cells": [
  {
   "cell_type": "markdown",
   "metadata": {},
   "source": [
    "Fonksiyonlar konusunu işlerken öğrendiğimiz oyun kodları"
   ]
  },
  {
   "cell_type": "markdown",
   "metadata": {},
   "source": [
    "Sayı Tahmin Oyunu\n",
    "* Random modülü ile bir sayı alınır\n",
    "* guess adında bir fonksiyon yazılacak\n",
    "* input ile kullanıcıdan tahminde bulunması istenip ardından yönlendirmeler yapılacak "
   ]
  },
  {
   "cell_type": "code",
   "execution_count": null,
   "metadata": {},
   "outputs": [],
   "source": [
    "from random import randint\n",
    "\n",
    "def guess(number):\n",
    "    user_number = int(input(\"Make a guess: \"))\n",
    "    while number != user_number: # while ile kontrol sağlıyoruz, eşitse döngüden çıkıyoruz\n",
    "        if number < user_number:\n",
    "            print(\"Down!\")\n",
    "        else:\n",
    "            print(\"Up!\")\n",
    "        user_number = int(input(\"Another guess\"))\n",
    "    else:\n",
    "        print(\"Congratz! You found the number\")\n",
    "\n",
    "\n",
    "guess(randint(1, 100))"
   ]
  },
  {
   "cell_type": "markdown",
   "metadata": {},
   "source": [
    "Bilgisayar tuttuğun sayıyı tahmin etmeye çalışıyor"
   ]
  },
  {
   "cell_type": "code",
   "execution_count": null,
   "metadata": {},
   "outputs": [],
   "source": [
    "import random \n",
    "\n",
    "def computer_guess(x):\n",
    "    start = 1\n",
    "    end = 100\n",
    "    result = \"\"\n",
    "    while result != \"d\":\n",
    "        guess = random.randint(start, end)\n",
    "        \n",
    "        result = input(f\"{guess} değeri aklından tuttuğun değerden büyükse(b), küçükse(k), doğruysa(d) giriniz.\".lower())\n",
    "        if result == \"b\":\n",
    "            end = guess - 1 \n",
    "        elif result == \"k\":\n",
    "            start = guess + 1\n",
    "    print(\"Tebrikler, doğru tahmin\")\n",
    "\n",
    "computer_guess(19)"
   ]
  },
  {
   "cell_type": "markdown",
   "metadata": {},
   "source": [
    "Taş, kağıt, makas\n",
    "* kağıt taşı yener\n",
    "* taş makası yener\n",
    "* makas kağıdı yener"
   ]
  },
  {
   "cell_type": "code",
   "execution_count": null,
   "metadata": {},
   "outputs": [],
   "source": [
    "import random\n",
    "player_score = computer_score = 0\n",
    "computer_choice = 0\n",
    "def print_result(winner = \"Bilgisayar\"):\n",
    "    print(f\"Bilgisayarın seçimi: {computer_choice}\\n\\n Kazanan: {winner}\")\n",
    "    \n",
    "    global player_score, computer_score\n",
    "    if winner == \"Bilgisayar\":\n",
    "        computer_score += 100\n",
    "    else:   \n",
    "        player_score += 100\n",
    "\n",
    "print(\"Taş Kağıt Makas Oyunu\\n\" + \"-\" * 21)\n",
    "\n",
    "while True:\n",
    "    print(\"\\n1- Taş\\n2- Kağıt\\n3- Makas\\n Oyundan çıkmak isterseniz bu değerler dışında bir değer giriniz.\")\n",
    "    player_choice = int(input(\"Bir sayı seçiniz\"))\n",
    "    computer_choice = random.choice([1, 2, 3])\n",
    "\n",
    "    if player_choice == computer_choice:\n",
    "        print(\"Berabere. Yeniden oynayınız\")\n",
    "    elif player_choice == 1:\n",
    "        if computer_choice == 2:\n",
    "            print_result()\n",
    "        elif computer_choice == 3:\n",
    "            print_result(\"Kullanıcı\")\n",
    "    \n",
    "    elif player_choice == 2:\n",
    "        if computer_choice == 3:\n",
    "            print_result()\n",
    "        elif computer_choice == 1:\n",
    "            print_result(\"Kullanıcı\")\n",
    "\n",
    "    elif player_choice == 3:\n",
    "        if computer_choice == 2:\n",
    "            print_result()\n",
    "        elif computer_choice == 1:\n",
    "            print_result(\"Kullanıcı\")\n",
    "\n",
    "    else:\n",
    "        break\n",
    "\n",
    "print(f\"\\n\\nKullanıcı skoru {player_score} - Bilgisayarın skoru {computer_score}\")\n",
    "if player_score > computer_score:\n",
    "    print(\"Tebrikler, kazanan Kullanıcı\")\n",
    "if player_score < computer_score:\n",
    "    print(\"Tebrikler, kazanan Bilgisayar\")\n",
    "else:\n",
    "    print(\"Dostluk kazandı.\")"
   ]
  }
 ],
 "metadata": {
  "language_info": {
   "name": "python"
  },
  "orig_nbformat": 4
 },
 "nbformat": 4,
 "nbformat_minor": 2
}
