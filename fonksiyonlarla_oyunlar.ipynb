{
 "cells": [
  {
   "cell_type": "markdown",
   "metadata": {},
   "source": [
    "Some game code examples that we can practice with functions"
   ]
  },
  {
   "cell_type": "markdown",
   "metadata": {},
   "source": [
    "Guess number\n",
    "* We will take a random value with random module\n",
    "* Write a function which name is guess \n",
    "* We will take a number from user with input and they will try to find the number with guidance of our code"
   ]
  },
  {
   "cell_type": "code",
   "execution_count": 19,
   "metadata": {},
   "outputs": [
    {
     "name": "stdout",
     "output_type": "stream",
     "text": [
      "Down!\n",
      "Down!\n",
      "Up!\n",
      "You are so close! Up!\n",
      "Congratz! You found the number\n"
     ]
    }
   ],
   "source": [
    "from random import randint\n",
    "\n",
    "def guess(number):\n",
    "    user_number = int(input(\"Make a guess: \"))\n",
    "    while number != user_number: # we are controlling with while loop, if they are equal the loop stops.\n",
    "        if user_number > number and (user_number - number) < 5:\n",
    "            print(\"You are so close! Down!\")   \n",
    "        elif user_number > number:\n",
    "            print(\"Down!\")\n",
    "        if user_number < number and (number - user_number) < 5:\n",
    "            print(\"You are so close! Up!\")   \n",
    "        elif user_number < number:\n",
    "            print(\"Up!\")\n",
    "\n",
    "        user_number = int(input(\"Another guess\"))\n",
    "    else:\n",
    "        print(\"Congratz! You found the number\")\n",
    "\n",
    "guess(randint(1, 100))\n"
   ]
  },
  {
   "cell_type": "markdown",
   "metadata": {},
   "source": [
    "Computer tries to guees the number that users choose"
   ]
  },
  {
   "cell_type": "code",
   "execution_count": 18,
   "metadata": {},
   "outputs": [
    {
     "name": "stdout",
     "output_type": "stream",
     "text": [
      "Perfect, computer! You found the number\n"
     ]
    }
   ],
   "source": [
    "import random \n",
    "\n",
    "def computer_guess(x):\n",
    "    start = 1\n",
    "    end = 200\n",
    "    result = \"\"\n",
    "    while result != \"true\":\n",
    "        guess = random.randint(start, end)\n",
    "        \n",
    "        result = input(f\"{guess} -> if this value is bigger then your number write b, if it is smaller write s, if it is the right number then write true.\".lower())\n",
    "        if result == \"b\":\n",
    "            end = guess - 1 \n",
    "        elif result == \"s\":\n",
    "            start = guess + 1\n",
    "    print(\"Perfect, computer! You found the number\")\n",
    "\n",
    "computer_guess(120)"
   ]
  },
  {
   "cell_type": "markdown",
   "metadata": {},
   "source": [
    "Rock Paper Scissors\n",
    "* paper beats stone\n",
    "* stone beats scissors\n",
    "* scissors beats paper"
   ]
  },
  {
   "cell_type": "code",
   "execution_count": 26,
   "metadata": {},
   "outputs": [
    {
     "name": "stdout",
     "output_type": "stream",
     "text": [
      "Rock Paper Scissors Game\n",
      "-----------------------------------\n",
      "\n",
      "1- Rock\n",
      "2- Paper\n",
      "3- Scissors\n",
      "If you wanna quit the game, write any other number.\n",
      "Draw. Play again\n",
      "\n",
      "1- Rock\n",
      "2- Paper\n",
      "3- Scissors\n",
      "If you wanna quit the game, write any other number.\n",
      "Draw. Play again\n",
      "\n",
      "1- Rock\n",
      "2- Paper\n",
      "3- Scissors\n",
      "If you wanna quit the game, write any other number.\n",
      "Draw. Play again\n",
      "\n",
      "1- Rock\n",
      "2- Paper\n",
      "3- Scissors\n",
      "If you wanna quit the game, write any other number.\n",
      "Draw. Play again\n",
      "\n",
      "1- Rock\n",
      "2- Paper\n",
      "3- Scissors\n",
      "If you wanna quit the game, write any other number.\n",
      "Computer's choice: 3\n",
      "\n",
      " Winner: User\n",
      "\n",
      "1- Rock\n",
      "2- Paper\n",
      "3- Scissors\n",
      "If you wanna quit the game, write any other number.\n",
      "\n",
      "\n",
      "User's score 100 - Computer's score 0\n",
      "Congratulations, Winner is User\n"
     ]
    }
   ],
   "source": [
    "import random\n",
    "player_score = computer_score = 0\n",
    "computer_choice = 0\n",
    "def print_result(winner = \"Computer\"): # we have taken Computer as a default winner\n",
    "    print(f\"Computer's choice: {computer_choice}\\n\\n Winner: {winner}\")\n",
    "    \n",
    "    global player_score, computer_score\n",
    "    if winner == \"Computer\":\n",
    "        computer_score += 100\n",
    "    else:   \n",
    "        player_score += 100\n",
    "\n",
    "print(\"Rock Paper Scissors Game\\n\" + \"-\" * 35)\n",
    "\n",
    "while True:\n",
    "    print(\"\\n1- Rock\\n2- Paper\\n3- Scissors\\nIf you wanna quit the game, write any other number.\")\n",
    "    player_choice = int(input(\"Choose a number\"))\n",
    "    computer_choice = random.choice([1, 2, 3])\n",
    "\n",
    "    if player_choice == computer_choice:\n",
    "        print(\"Draw. Play again\")\n",
    "    elif player_choice == 1:\n",
    "        if computer_choice == 2:\n",
    "            print_result()\n",
    "        elif computer_choice == 3:\n",
    "            print_result(\"User\")\n",
    "    \n",
    "    elif player_choice == 2:\n",
    "        if computer_choice == 3:\n",
    "            print_result()\n",
    "        elif computer_choice == 1:\n",
    "            print_result(\"User\")\n",
    "\n",
    "    elif player_choice == 3:\n",
    "        if computer_choice == 2:\n",
    "            print_result()\n",
    "        elif computer_choice == 1:\n",
    "            print_result(\"User\")\n",
    "\n",
    "    else:\n",
    "        break\n",
    "\n",
    "print(f\"\\n\\nUser's score {player_score} - Computer's score {computer_score}\")\n",
    "if player_score > computer_score:\n",
    "    print(\"Congratulations, Winner is User\")\n",
    "elif player_score < computer_score:\n",
    "    print(\"Congratulations, Winner is Computer\")\n",
    "else:\n",
    "    print(\"Friendship won.\") "
   ]
  }
 ],
 "metadata": {
  "kernelspec": {
   "display_name": "Python 3.10.7 64-bit",
   "language": "python",
   "name": "python3"
  },
  "language_info": {
   "codemirror_mode": {
    "name": "ipython",
    "version": 3
   },
   "file_extension": ".py",
   "mimetype": "text/x-python",
   "name": "python",
   "nbconvert_exporter": "python",
   "pygments_lexer": "ipython3",
   "version": "3.10.7"
  },
  "orig_nbformat": 4,
  "vscode": {
   "interpreter": {
    "hash": "069f238df288ea09d7b18ad4fdd00a6dec393d601f860917fae3606455fbfe67"
   }
  }
 },
 "nbformat": 4,
 "nbformat_minor": 2
}
