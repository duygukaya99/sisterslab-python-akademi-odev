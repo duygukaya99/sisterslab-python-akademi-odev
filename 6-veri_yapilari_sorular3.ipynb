{
 "cells": [
  {
   "cell_type": "markdown",
   "metadata": {},
   "source": [
    "3-Soru: Sıralama Algoritması. selection sort algorithm\n",
    "Bir liste üzerinde sıralama algoritmasını kullanarak listeyi sıralayınız."
   ]
  },
  {
   "cell_type": "code",
   "execution_count": 62,
   "metadata": {},
   "outputs": [
    {
     "name": "stdout",
     "output_type": "stream",
     "text": [
      "[66, 70, 21, 62, 23, 77, 74, 13, 71, 41]\n"
     ]
    },
    {
     "data": {
      "text/plain": [
       "[66, 70, 66, 62, 23, 77, 74, 21, 71, 41]"
      ]
     },
     "execution_count": 62,
     "metadata": {},
     "output_type": "execute_result"
    }
   ],
   "source": [
    "import random\n",
    "\n",
    "my_list = []\n",
    "\n",
    "def selectionSort(number):\n",
    "    for i in range(0, number):\n",
    "        my_list.append(random.randint(0, 100))\n",
    "    print(my_list)\n",
    "\n",
    "    min_num = my_list[0]\n",
    "    for i in range(0, len(my_list)):\n",
    "        if my_list[i] <= min_num:\n",
    "            my_list[i], min_num = min_num, my_list[i]\n",
    "        for j in range(1, len(my_list)): # diğer döngü kalan listede en küçüğü buluyor\n",
    "            if my_list[j] < min_num:\n",
    "               my_list[j], min_num = min_num, my_list[j]\n",
    "    return my_list\n",
    "        \n",
    "selectionSort(10) \n",
    "    "
   ]
  },
  {
   "cell_type": "code",
   "execution_count": 67,
   "metadata": {},
   "outputs": [
    {
     "name": "stdout",
     "output_type": "stream",
     "text": [
      "[2, 4, 1, 5, 6, 0, 3]\n",
      "[2, 1, 4, 5, 6, 0, 3] - 1\n",
      "[2, 1, 4, 5, 0, 6, 3] - 4\n",
      "[2, 1, 4, 5, 0, 3, 6] - 5\n",
      "[1, 2, 4, 5, 0, 3, 6] - 0\n",
      "[1, 2, 4, 0, 5, 3, 6] - 3\n",
      "[1, 2, 4, 0, 3, 5, 6] - 4\n",
      "[1, 2, 0, 4, 3, 5, 6] - 2\n",
      "[1, 2, 0, 3, 4, 5, 6] - 3\n",
      "[1, 0, 2, 3, 4, 5, 6] - 1\n",
      "[0, 1, 2, 3, 4, 5, 6] - 0\n"
     ]
    }
   ],
   "source": [
    "# Bubble Sort ikili ikili birbiriyle karşılaştırıyor\n",
    "\n",
    "from calendar import c\n",
    "import random\n",
    "\n",
    "from numpy import outer\n",
    "\n",
    "list_length = 7\n",
    "my_list = [i for i in range(0,list_length)]\n",
    "random.shuffle(my_list)\n",
    "\n",
    "print(my_list)\n",
    "\n",
    "#Bubble Sort\n",
    "for i in range(list_length):\n",
    "    for j in range(list_length - 1):#[0,1,2,3,4,..18,19]\n",
    "        if my_list[j] > my_list[j + 1]:\n",
    "            # temp = my_list[j]\n",
    "            # my_list[j] = my_list[j + 1]\n",
    "            # my_list[j + 1] = temp\n",
    "            my_list[j], my_list[j + 1] = my_list[j + 1], my_list[j]\n",
    "            print(my_list, '-', j)\n",
    "\n",
    "#Selection Sort\n",
    "for outer_index in range(list_length):\n",
    "    current_min_index = outer_index\n",
    "    for inner_index in range(outer_index +  1, list_length):\n",
    "        if my_list[current_min_index] > my_list[inner_index]:\n",
    "            current_min_index = inner_index\n",
    "\n",
    "    my_list[outer_index], my_list[current_min_index] = my_list[current_min_index], my_list[outer_index]\n",
    "    print(my_list,'-', outer_index)\n",
    "\n",
    "# Insertion sort\n",
    "for outer_index in range(1, list_length):\n",
    "    for inner_index in range(outer_index):\n",
    "        if my_list[outer_index] < my_list[inner_index]:\n",
    "            currentValue = my_list.pop(outer_index)\n",
    "            my_list.insert(inner_index, currentValue)\n",
    "            break\n",
    "    print(my_list, '-', outer_index)\n",
    "            "
   ]
  },
  {
   "cell_type": "code",
   "execution_count": null,
   "metadata": {},
   "outputs": [],
   "source": []
  }
 ],
 "metadata": {
  "kernelspec": {
   "display_name": "Python 3.10.7 64-bit",
   "language": "python",
   "name": "python3"
  },
  "language_info": {
   "codemirror_mode": {
    "name": "ipython",
    "version": 3
   },
   "file_extension": ".py",
   "mimetype": "text/x-python",
   "name": "python",
   "nbconvert_exporter": "python",
   "pygments_lexer": "ipython3",
   "version": "3.10.7"
  },
  "orig_nbformat": 4,
  "vscode": {
   "interpreter": {
    "hash": "069f238df288ea09d7b18ad4fdd00a6dec393d601f860917fae3606455fbfe67"
   }
  }
 },
 "nbformat": 4,
 "nbformat_minor": 2
}
