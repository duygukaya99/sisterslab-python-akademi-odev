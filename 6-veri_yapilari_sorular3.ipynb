{
 "cells": [
  {
   "cell_type": "markdown",
   "metadata": {},
   "source": [
    "3-Soru: Sıralama Algoritması. selection sort algorithm\n",
    "Bir liste üzerinde sıralama algoritmasını kullanarak listeyi sıralayınız."
   ]
  },
  {
   "cell_type": "code",
   "execution_count": 51,
   "metadata": {},
   "outputs": [
    {
     "name": "stdout",
     "output_type": "stream",
     "text": [
      "[100, 47, 16, 1, 0, 78, 19, 15, 48, 87]\n"
     ]
    },
    {
     "data": {
      "text/plain": [
       "[48, 47, 16, 1, 0, 78, 19, 15, 48, 87]"
      ]
     },
     "execution_count": 51,
     "metadata": {},
     "output_type": "execute_result"
    }
   ],
   "source": [
    "import random\n",
    "\n",
    "my_list = []\n",
    "\n",
    "def selectionSort(number):\n",
    "    for i in range(0, number):\n",
    "        my_list.append(random.randint(0, 100))\n",
    "    print(my_list)\n",
    "\n",
    "    min_num = 0\n",
    "    for i in range(0, len(my_list)):\n",
    "        my_list[min_num] = my_list[i]\n",
    "        for j in range(0, len(my_list)):\n",
    "            if my_list[j] < my_list[i]:\n",
    "               my_list[min_num] = my_list[j]\n",
    "    return my_list\n",
    "        \n",
    "selectionSort(10)\n",
    "    "
   ]
  }
 ],
 "metadata": {
  "kernelspec": {
   "display_name": "Python 3.10.7 64-bit",
   "language": "python",
   "name": "python3"
  },
  "language_info": {
   "codemirror_mode": {
    "name": "ipython",
    "version": 3
   },
   "file_extension": ".py",
   "mimetype": "text/x-python",
   "name": "python",
   "nbconvert_exporter": "python",
   "pygments_lexer": "ipython3",
   "version": "3.10.7"
  },
  "orig_nbformat": 4,
  "vscode": {
   "interpreter": {
    "hash": "069f238df288ea09d7b18ad4fdd00a6dec393d601f860917fae3606455fbfe67"
   }
  }
 },
 "nbformat": 4,
 "nbformat_minor": 2
}
