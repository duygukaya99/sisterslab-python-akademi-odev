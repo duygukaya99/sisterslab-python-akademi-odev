{
 "cells": [
  {
   "cell_type": "markdown",
   "metadata": {},
   "source": [
    "1-Soru: 0dan 100e kadar karışık sırada sayıları tutan bir listenizin olduğunu düşünün. Bu liste içerisinde n tane sayı eksik. n ve eksik sayıları bulunuz.\n",
    "\n",
    "Örnek:\n",
    "my_list = [0, 7, 5, 8, 2] -> 0-10 arasında \n",
    "6 adet sayı eksiktir. Eksik olan sayılar [1, 3, 4, 6, 9, 10]"
   ]
  },
  {
   "cell_type": "code",
   "execution_count": 2,
   "metadata": {},
   "outputs": [
    {
     "name": "stdout",
     "output_type": "stream",
     "text": [
      "0-10 arasında karışık sayıları tutan liste: [0, 9]\n",
      "Eksik olan sayılar:  [1, 2, 3, 4, 5, 6, 7, 8]\n",
      "8 sayı eksik\n"
     ]
    }
   ],
   "source": [
    "import random\n",
    "my_list = [i for i in range(0, 10)]\n",
    "\n",
    "random.shuffle(my_list)\n",
    "my_list\n",
    "\n",
    "n = random.randint(0, 10)\n",
    "for i in range(0, n):\n",
    "    my_list.pop()\n",
    "\n",
    "print(\"0-10 arasında karışık sayıları tutan liste:\", my_list)\n",
    "\n",
    "missing_numbers = []\n",
    "for i in range(0, 10):\n",
    "    if i not in my_list:\n",
    "        missing_numbers.append(i)\n",
    "print(\"Eksik olan sayılar: \", missing_numbers)\n",
    "print(f\"{n} sayı eksik\")"
   ]
  },
  {
   "cell_type": "code",
   "execution_count": 5,
   "metadata": {},
   "outputs": [
    {
     "name": "stdout",
     "output_type": "stream",
     "text": [
      "7 adet sayı eksik\n",
      "0-10 arasında karışık sayıları tutan liste: [7, 0, 4]\n",
      "Eksik olan sayılar:  [1, 2, 3, 5, 6, 8, 9]\n"
     ]
    }
   ],
   "source": [
    "import random\n",
    "\n",
    "def missingValues(number):   \n",
    "    my_list = [i for i in range(0, number)]\n",
    "    random.shuffle(my_list)\n",
    "\n",
    "    count = 0\n",
    "    n = random.randint(0, number)\n",
    "    for i in range(0, n):\n",
    "        my_list.pop()\n",
    "        count += 1    \n",
    "    print(f\"{count} adet sayı eksik\")\n",
    "\n",
    "    print(f\"0-{number} arasında karışık sayıları tutan liste:\", my_list)\n",
    "\n",
    "    missing_numbers = []\n",
    "    for i in range(0, number):\n",
    "        if i not in my_list:\n",
    "            missing_numbers.append(i)\n",
    "    return missing_numbers\n",
    "\n",
    "print(\"Eksik olan sayılar: \", missingValues(10)) "
   ]
  },
  {
   "cell_type": "code",
   "execution_count": 12,
   "metadata": {},
   "outputs": [
    {
     "name": "stdout",
     "output_type": "stream",
     "text": [
      "Listemiz içerisinde 7 tane sayı eksiktir. Eksik olan sayılar {0, 1, 3, 5, 6, 8, 9}\n"
     ]
    }
   ],
   "source": [
    "# başka çözüm\n",
    "my_list = [2, 4, 7]\n",
    "\n",
    "my_set = {i for i in range(0,10)}\n",
    "\n",
    "difference_set = my_set - set(my_list)\n",
    "print(f\"Listemiz içerisinde {len(difference_set )} tane sayı eksiktir. Eksik olan sayılar {difference_set}\")"
   ]
  }
 ],
 "metadata": {
  "kernelspec": {
   "display_name": "Python 3.10.7 64-bit",
   "language": "python",
   "name": "python3"
  },
  "language_info": {
   "codemirror_mode": {
    "name": "ipython",
    "version": 3
   },
   "file_extension": ".py",
   "mimetype": "text/x-python",
   "name": "python",
   "nbconvert_exporter": "python",
   "pygments_lexer": "ipython3",
   "version": "3.10.7"
  },
  "orig_nbformat": 4,
  "vscode": {
   "interpreter": {
    "hash": "069f238df288ea09d7b18ad4fdd00a6dec393d601f860917fae3606455fbfe67"
   }
  }
 },
 "nbformat": 4,
 "nbformat_minor": 2
}
