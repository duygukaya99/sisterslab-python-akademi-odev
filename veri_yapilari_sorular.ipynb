{
 "cells": [
  {
   "cell_type": "markdown",
   "metadata": {},
   "source": [
    "1-Soru: 0dan 100e kadar karışık sırada sayıları tutan bir listenizin olduğunu düşünün. Bu liste içerisinde n tane sayı eksik. n ve eksik sayıları bulunuz.\n",
    "\n",
    "Örnek:\n",
    "my_list = [0, 7, 5, 8, 2] -> 0-10 arasında \n",
    "6 adet sayı eksiktir. Eksik olan sayılar [1, 3, 4, 6, 9, 10]"
   ]
  },
  {
   "cell_type": "code",
   "execution_count": 14,
   "metadata": {},
   "outputs": [
    {
     "name": "stdout",
     "output_type": "stream",
     "text": [
      "[0, 6, 3, 4, 7, 2, 5, 9]\n",
      "[1, 8]\n"
     ]
    }
   ],
   "source": [
    "import random\n",
    "my_list = [i for i in range(0, 10)]\n",
    "\n",
    "random.shuffle(my_list)\n",
    "my_list\n",
    "\n",
    "n = random.randint(0, 10)\n",
    "for i in range(0, n):\n",
    "    my_list.pop()\n",
    "\n",
    "print(my_list)\n",
    "\n",
    "missing_numbers = []\n",
    "for i in range(0, 10):\n",
    "    if i not in my_list:\n",
    "        missing_numbers.append(i)\n",
    "print(missing_numbers)"
   ]
  }
 ],
 "metadata": {
  "kernelspec": {
   "display_name": "Python 3.10.7 64-bit",
   "language": "python",
   "name": "python3"
  },
  "language_info": {
   "codemirror_mode": {
    "name": "ipython",
    "version": 3
   },
   "file_extension": ".py",
   "mimetype": "text/x-python",
   "name": "python",
   "nbconvert_exporter": "python",
   "pygments_lexer": "ipython3",
   "version": "3.10.7"
  },
  "orig_nbformat": 4,
  "vscode": {
   "interpreter": {
    "hash": "069f238df288ea09d7b18ad4fdd00a6dec393d601f860917fae3606455fbfe67"
   }
  }
 },
 "nbformat": 4,
 "nbformat_minor": 2
}
