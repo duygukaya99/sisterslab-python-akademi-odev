{
 "cells": [
  {
   "cell_type": "markdown",
   "metadata": {},
   "source": [
    "Hi everyone! \n",
    "\n",
    "We will play a game today! It's called \"guess the number\" game! Have fun!"
   ]
  },
  {
   "cell_type": "code",
   "execution_count": 15,
   "metadata": {},
   "outputs": [
    {
     "name": "stdout",
     "output_type": "stream",
     "text": [
      "Down!\n",
      "Down!\n",
      "Down!\n",
      "You are so close! Up!\n",
      "You are so close! Up!\n",
      "Congratulations! You found the number!\n"
     ]
    }
   ],
   "source": [
    "import random\n",
    "\n",
    "number = random.randint(1, 100)\n",
    "guess = None\n",
    "\n",
    "while guess != number:\n",
    "    guess = input(\"guess a number between 1 and 100:\")\n",
    "    guess = int(guess)\n",
    "\n",
    "    if guess == number:\n",
    "        print(\"Congratulations! You found the number!\")\n",
    "        break\n",
    "    elif guess < number and (number - guess) < 5:\n",
    "        print(\"You are so close! Up!\")    \n",
    "    elif guess < number:\n",
    "        print(\"Up!\")\n",
    "    elif guess > number and (guess - number) < 5:\n",
    "        print(\"You are so close! Down!\")   \n",
    "    elif guess > number:\n",
    "        print(\"Down!\")\n",
    "\n"
   ]
  },
  {
   "cell_type": "markdown",
   "metadata": {},
   "source": [
    "Clone this code and then start to guess :)"
   ]
  }
 ],
 "metadata": {
  "kernelspec": {
   "display_name": "Python 3.10.7 64-bit",
   "language": "python",
   "name": "python3"
  },
  "language_info": {
   "codemirror_mode": {
    "name": "ipython",
    "version": 3
   },
   "file_extension": ".py",
   "mimetype": "text/x-python",
   "name": "python",
   "nbconvert_exporter": "python",
   "pygments_lexer": "ipython3",
   "version": "3.10.7"
  },
  "orig_nbformat": 4,
  "vscode": {
   "interpreter": {
    "hash": "069f238df288ea09d7b18ad4fdd00a6dec393d601f860917fae3606455fbfe67"
   }
  }
 },
 "nbformat": 4,
 "nbformat_minor": 2
}
