{
 "cells": [
  {
   "cell_type": "markdown",
   "metadata": {},
   "source": [
    "2-Soru: 0dan 100e kadar karışık sırada sayıları tutan bir listenizin olduğunu düşünün. Bu liste içerisinde bu defa n tane sayı yerine 1 adet sayı eksik. Eksik olan sayıyı bulunuz. Amacınız kısa yol ile bulmak olsun."
   ]
  },
  {
   "cell_type": "code",
   "execution_count": 23,
   "metadata": {},
   "outputs": [
    {
     "name": "stdout",
     "output_type": "stream",
     "text": [
      "Listemiz içerisinde 1 tane sayı eksiktir. Eksik olan sayı {75}\n"
     ]
    }
   ],
   "source": [
    "import random\n",
    "\n",
    "def missingValue(number):   \n",
    "    my_list = [i for i in range(0, number)]\n",
    "    random.shuffle(my_list)\n",
    "\n",
    "    count = 0\n",
    "    n = random.randint(0, number)\n",
    "    my_list.pop(n)\n",
    "\n",
    "    my_set = {i for i in range(0, number)}\n",
    "\n",
    "    difference_set = my_set - set(my_list)\n",
    "    print(f\"Listemiz içerisinde {len(difference_set )} tane sayı eksiktir. Eksik olan sayı {difference_set}\")    \n",
    "\n",
    "missingValue(100)"
   ]
  }
 ],
 "metadata": {
  "kernelspec": {
   "display_name": "Python 3.10.7 64-bit",
   "language": "python",
   "name": "python3"
  },
  "language_info": {
   "codemirror_mode": {
    "name": "ipython",
    "version": 3
   },
   "file_extension": ".py",
   "mimetype": "text/x-python",
   "name": "python",
   "nbconvert_exporter": "python",
   "pygments_lexer": "ipython3",
   "version": "3.10.7"
  },
  "orig_nbformat": 4,
  "vscode": {
   "interpreter": {
    "hash": "069f238df288ea09d7b18ad4fdd00a6dec393d601f860917fae3606455fbfe67"
   }
  }
 },
 "nbformat": 4,
 "nbformat_minor": 2
}
