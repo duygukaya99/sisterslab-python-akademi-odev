{
 "cells": [
  {
   "cell_type": "markdown",
   "metadata": {},
   "source": [
    "Düzensiz ve duplicate veriden oluşan \"all_data.txt\" dosyası üzerinde yapılacak olan işlemler;\n",
    "\n",
    "* Bütün text küçük harfe çevrilecek\n",
    "* Türkçe karakterler replace edilecek\n",
    "  - ş -> s \n",
    "  - ı -> i \n",
    "  - ö -> o \n",
    "  - ğ -> g \n",
    "  - ç -> c \n",
    "  - ü -> u \n",
    "* Noktalama işaretleri kaldırılacak\n",
    "* Bir satır tamamen sayılardan oluşuyorsa satırı yeni dosyaya ekleme\n",
    "* Her satırda bir cümle olacak şekilde satırları düzenleyin\n",
    "* duplicate veri barındırmayacak"
   ]
  }
 ],
 "metadata": {
  "kernelspec": {
   "display_name": "Python 3.10.7 64-bit",
   "language": "python",
   "name": "python3"
  },
  "language_info": {
   "name": "python",
   "version": "3.10.7"
  },
  "orig_nbformat": 4,
  "vscode": {
   "interpreter": {
    "hash": "069f238df288ea09d7b18ad4fdd00a6dec393d601f860917fae3606455fbfe67"
   }
  }
 },
 "nbformat": 4,
 "nbformat_minor": 2
}
