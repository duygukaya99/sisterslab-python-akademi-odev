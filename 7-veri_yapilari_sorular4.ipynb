{
 "cells": [
  {
   "cell_type": "markdown",
   "metadata": {},
   "source": [
    "Başka fav soru\n",
    "4-Soru: Elinizde bir liste olduğunu varsayın. [1, 2, 3, 3, 4, 5, 6, 7, 8, 9] Kullanıcıdan bir sayı değeri alınacak. Alınan değerin 9 olduğunu varsayalım. Emre'nin slackte çözdüğü soru"
   ]
  },
  {
   "cell_type": "code",
   "execution_count": 3,
   "metadata": {},
   "outputs": [
    {
     "ename": "TypeError",
     "evalue": "unsupported operand type(s) for -: 'list' and 'int'",
     "output_type": "error",
     "traceback": [
      "\u001b[1;31m---------------------------------------------------------------------------\u001b[0m",
      "\u001b[1;31mTypeError\u001b[0m                                 Traceback (most recent call last)",
      "Cell \u001b[1;32mIn [3], line 9\u001b[0m\n\u001b[0;32m      6\u001b[0m             \u001b[39mprint\u001b[39m(i, i \u001b[39m+\u001b[39m \u001b[39m1\u001b[39m)\n\u001b[0;32m      7\u001b[0m     \u001b[39mreturn\u001b[39;00m (i, i \u001b[39m+\u001b[39m \u001b[39m1\u001b[39m)\n\u001b[1;32m----> 9\u001b[0m func(nums, target)\n",
      "Cell \u001b[1;32mIn [3], line 4\u001b[0m, in \u001b[0;36mfunc\u001b[1;34m(nums, target)\u001b[0m\n\u001b[0;32m      3\u001b[0m \u001b[39mdef\u001b[39;00m \u001b[39mfunc\u001b[39m(nums, target):\n\u001b[1;32m----> 4\u001b[0m     \u001b[39mfor\u001b[39;00m i \u001b[39min\u001b[39;00m nums \u001b[39m-\u001b[39;49m \u001b[39m1\u001b[39;49m:\n\u001b[0;32m      5\u001b[0m         \u001b[39mif\u001b[39;00m nums[i] \u001b[39m+\u001b[39m nums[i \u001b[39m+\u001b[39m \u001b[39m1\u001b[39m] \u001b[39m==\u001b[39m target:\n\u001b[0;32m      6\u001b[0m             \u001b[39mprint\u001b[39m(i, i \u001b[39m+\u001b[39m \u001b[39m1\u001b[39m)\n",
      "\u001b[1;31mTypeError\u001b[0m: unsupported operand type(s) for -: 'list' and 'int'"
     ]
    }
   ],
   "source": [
    "nums = [1, 2, 3, 3, 4, 5, 6, 7, 8, 9]\n",
    "target = int(input(\"Bir sayı giriniz: \"))\n",
    "def func(nums, target):\n",
    "    for i in nums - 1:\n",
    "        if nums[i] + nums[i + 1] == target:\n",
    "            print(i, i + 1)\n",
    "    return (i, i + 1)\n",
    "\n",
    "func(nums, target)"
   ]
  }
 ],
 "metadata": {
  "kernelspec": {
   "display_name": "Python 3.10.7 64-bit",
   "language": "python",
   "name": "python3"
  },
  "language_info": {
   "codemirror_mode": {
    "name": "ipython",
    "version": 3
   },
   "file_extension": ".py",
   "mimetype": "text/x-python",
   "name": "python",
   "nbconvert_exporter": "python",
   "pygments_lexer": "ipython3",
   "version": "3.10.7"
  },
  "orig_nbformat": 4,
  "vscode": {
   "interpreter": {
    "hash": "069f238df288ea09d7b18ad4fdd00a6dec393d601f860917fae3606455fbfe67"
   }
  }
 },
 "nbformat": 4,
 "nbformat_minor": 2
}
